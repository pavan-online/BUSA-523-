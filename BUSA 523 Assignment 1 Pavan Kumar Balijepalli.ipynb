{
 "cells": [
  {
   "cell_type": "markdown",
   "id": "42fc1315",
   "metadata": {},
   "source": [
    "Question 1: Write a program which randomly selects a number between 1 and 20. The\n",
    "user is then given 5 chances to guess the number correctly to win."
   ]
  },
  {
   "cell_type": "code",
   "execution_count": 41,
   "id": "0bf35260",
   "metadata": {},
   "outputs": [
    {
     "name": "stdout",
     "output_type": "stream",
     "text": [
      "Guess the secret number from 1-20 to win against the computer. You have 5 chances!\n",
      "Make your Guess No 1\n",
      "4\n",
      "You Guessed No 4 Is Correct! Congrats!\n",
      "Play again\n"
     ]
    }
   ],
   "source": [
    "#importing random lib and using randint method to select the random number between the range\n",
    "\n",
    "import random\n",
    "X = random.randint(1,20)\n",
    "print(\"Guess the secret number from 1-20 to win against the computer.\" , \"You have 5 chances!\")\n",
    "i=1\n",
    "\n",
    "# Use of while loop\n",
    "\n",
    "while i<=5:\n",
    "    print(\"Make your Guess No\", i)\n",
    "    Y = int(input())\n",
    "    if Y == X:\n",
    "        print(\"You Guessed No\", Y, \"Is Correct!\", \"Congrats!\")\n",
    "        break\n",
    "    else:\n",
    "        print(\"Incorrect Guess!\")\n",
    "    i = i+1\n",
    "print (\"Play again\")"
   ]
  },
  {
   "cell_type": "markdown",
   "id": "147434e3",
   "metadata": {},
   "source": [
    "2. Make the following changes to the above program.\n",
    "After each guess, print if the next guess should be lower or higher. For\n",
    "example, if the computer selection is 10 and the user input is 6, print\n",
    "guess a higher value."
   ]
  },
  {
   "cell_type": "code",
   "execution_count": 42,
   "id": "a50f2c15",
   "metadata": {},
   "outputs": [
    {
     "name": "stdout",
     "output_type": "stream",
     "text": [
      "Guess the secret number from 1-20 to win against the computer. You have 5 chances!\n",
      "Make your Guess No 1\n",
      "5\n",
      "You Guessed No 5 is Higher\n",
      "Make your Guess No 2\n",
      "3\n",
      "You Guessed No 3 is lower\n",
      "Make your Guess No 3\n",
      "4\n",
      "You Guessed No 4 Is Correct! Congrats!\n",
      "Play again\n"
     ]
    }
   ],
   "source": [
    "#importing random lib and using randint method to select the random number between the range\n",
    "\n",
    "import random\n",
    "X = random.randint(1,20)\n",
    "print(\"Guess the secret number from 1-20 to win against the computer.\" , \"You have 5 chances!\")\n",
    "i=1\n",
    "\n",
    "# Use of while loop\n",
    "\n",
    "while i<=5:\n",
    "    print(\"Make your Guess No\", i)\n",
    "    Y = int(input())\n",
    "    if Y == X:\n",
    "        print(\"You Guessed No\", Y, \"Is Correct!\", \"Congrats!\")\n",
    "        break\n",
    "    elif Y < X:\n",
    "        print(\"You Guessed No\", Y, \"is lower\")\n",
    "    elif Y > X:\n",
    "        print(\"You Guessed No\", Y, \"is Higher\")\n",
    "    else:\n",
    "        print(\"Incorrect Guess!\")\n",
    "    i = i+1\n",
    "print (\"Play again\")"
   ]
  },
  {
   "cell_type": "markdown",
   "id": "bc9b7fae",
   "metadata": {},
   "source": [
    "3. Write a program for “Rock-Paper-Scissors-Lizard-Spock”"
   ]
  },
  {
   "cell_type": "code",
   "execution_count": 45,
   "id": "ccfac506",
   "metadata": {},
   "outputs": [
    {
     "name": "stdout",
     "output_type": "stream",
     "text": [
      "Lets play Rock Paper Scissors Lizard Spock game. \n",
      " Make your selection:Scissors\n",
      "My Selection is: Rock \n",
      "I win\n",
      "Lets Play Again!\n"
     ]
    }
   ],
   "source": [
    "\n",
    "#importing random lib and using randint method to select the random number between the range\n",
    "\n",
    "import random\n",
    "# List = [\"Rock\", \"Paper\", \"Scissors\", \"Lizard\", \"Spock\"]\n",
    "\n",
    "X = random.randint(1,5)\n",
    "\n",
    "if X == 1:\n",
    "    C = \"Rock\"\n",
    "elif X == 2:\n",
    "    C = \"Paper\"\n",
    "elif X== 3:\n",
    "    C= \"Scissors\"\n",
    "elif X == 4:\n",
    "    C = \"Lizard\"\n",
    "else:\n",
    "    C = \"Spock\"\n",
    "\n",
    "Y = input(\"Lets play Rock Paper Scissors Lizard Spock game. \\n Make your selection:\")\n",
    "\n",
    "if C == Y:\n",
    "    print(\"My Selection is:\",C, \"\\nIts a tie\")\n",
    "elif C == \"Rock\" and Y == \"Paper\":\n",
    "    print (\"My Selection is:\",C,\"\\nYou Win\")\n",
    "elif C == \"Rock\" and Y == \"Scissors\":\n",
    "    print (\"My Selection is:\",C,\"\\nI win\")\n",
    "elif C == \"Rock\" and Y == \"Lizard\":\n",
    "    print (\"My Selection is:\",C,\"\\nI win\")\n",
    "elif C == \"Rock\" and Y == \"Spock\":\n",
    "    print (\"My Selection is:\",C,\"\\nYou win\")\n",
    "elif C == \"Paper\" and Y == \"Rock\":\n",
    "    print (\"My Selection is:\",C,\"\\nI win\")\n",
    "elif C == \"Paper\" and Y == \"Scissors\":\n",
    "    print (\"My Selection is:\",C,\"\\nYou win\")\n",
    "elif C == \"Paper\" and Y == \"Lizard\":\n",
    "    print (\"My Selection is:\",C,\"\\nYou win\")\n",
    "elif C == \"Paper\" and Y == \"Spock\":\n",
    "    print (\"My Selection is:\",C,\"\\nI win\")\n",
    "elif C == \"Scissors\" and Y == \"Rock\":\n",
    "    print (\"My Selection is:\",C,\"\\nYou win\")\n",
    "elif C == \"Scissors\" and Y == \"Paper\":\n",
    "    print (\"My Selection is:\",C,\"\\nI win\")\n",
    "elif C == \"Scissors\" and Y == \"Lizard\":\n",
    "    print (\"My Selection is:\",C,\"\\nI win\")\n",
    "elif C == \"Scissors\" and Y == \"Spock\":\n",
    "    print (\"My Selection is:\",C,\"\\nYou win\")\n",
    "elif C == \"Lizard\" and Y == \"Rock\":\n",
    "    print (\"My Selection is:\",C,\"\\nYou win\")\n",
    "elif C == \"Lizard\" and Y == \"Paper\":\n",
    "    print (\"My Selection is:\",C,\"\\nI win\")\n",
    "elif C == \"Lizard\" and Y == \"Scissors\":\n",
    "    print (\"My Selection is:\",C,\"\\nYou win\")\n",
    "elif C == \"Lizard\" and Y == \"Spock\":\n",
    "    print (\"My Selection is:\",C,\"\\nI win\")\n",
    "elif C == \"Spock\" and Y == \"Rock\":\n",
    "    print (\"My Selection is:\",C,\"\\nI win\")\n",
    "elif C == \"Spock\" and Y == \"Paper\":\n",
    "    print (\"My Selection is:\",C,\"\\nYou win\")\n",
    "elif C == \"Spock\" and Y == \"Lizard\":\n",
    "    print (\"My Selection is:\",C,\"\\nYou win\")\n",
    "else:\n",
    "    print (\"My Selection is:\",C,\"\\nI win\")\n",
    "\n",
    "print(\"Lets Play Again!\")\n",
    "\n"
   ]
  }
 ],
 "metadata": {
  "kernelspec": {
   "display_name": "Python 3 (ipykernel)",
   "language": "python",
   "name": "python3"
  },
  "language_info": {
   "codemirror_mode": {
    "name": "ipython",
    "version": 3
   },
   "file_extension": ".py",
   "mimetype": "text/x-python",
   "name": "python",
   "nbconvert_exporter": "python",
   "pygments_lexer": "ipython3",
   "version": "3.9.7"
  }
 },
 "nbformat": 4,
 "nbformat_minor": 5
}
