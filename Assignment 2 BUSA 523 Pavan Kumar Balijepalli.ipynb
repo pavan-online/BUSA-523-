{
 "cells": [
  {
   "cell_type": "code",
   "execution_count": 33,
   "id": "bff73499",
   "metadata": {},
   "outputs": [
    {
     "name": "stdout",
     "output_type": "stream",
     "text": [
      "10000\n",
      "No of streaks are 296\n"
     ]
    }
   ],
   "source": [
    "''' # Question 1: Write a program for flipping a coin 10,000 times and store the results in a list.\n",
    "After which, identify the number of streaks. (streak - a series of 5 or more heads or tails)\n",
    "'''\n",
    "\n",
    "import random\n",
    "\n",
    "# Generating list for 10000 flip coin entries\n",
    "\n",
    "flip_coin_list = []\n",
    "flip_count = 10000\n",
    "\n",
    "for i in range (flip_count):\n",
    "    n= random.randint(0,1)\n",
    "    if n == 0:\n",
    "        flip_coin_list.append('H') # H is Head outcome when coin is flipped\n",
    "    else:\n",
    "        flip_coin_list.append('T') # T is Tail outcome when coin is flipped\n",
    "\n",
    "# list is now generated for 10,000 flips randomly\n",
    "print (len(flip_coin_list))\n",
    "\n",
    "y=0 # checking for series of same H or T\n",
    "z=0 # checking for streak of 5 or more H or T\n",
    "\n",
    "\n",
    "for x in range (len(flip_coin_list)):\n",
    "\n",
    "    if x!= 0 and flip_coin_list[x] == flip_coin_list[x-1]:\n",
    "        y+=1\n",
    "    elif flip_coin_list[x] != flip_coin_list[x-1]:\n",
    "        y=0\n",
    "    if y >= 5:\n",
    "        z+=1\n",
    "\n",
    "print ('No of streaks are',z)"
   ]
  },
  {
   "cell_type": "code",
   "execution_count": 42,
   "id": "d1426dd0",
   "metadata": {},
   "outputs": [
    {
     "name": "stdout",
     "output_type": "stream",
     "text": [
      "Provide No of Swords:5\n",
      "Provide No of Diamonds:10\n",
      "Provide No of Gold Coins:6\n",
      "Provide No of Rope:3\n",
      "Provide No of Potions:2\n",
      "Inventory:\n",
      "5 Swords\n",
      "10 Diamonds\n",
      "6 Gold Coins\n",
      "3 Rope\n",
      "2 Potions\n"
     ]
    }
   ],
   "source": [
    "'''\n",
    "# Question 2: Write a program to take user inputs (number of swords, diamonds, gold coins,\n",
    "ropes and potions) for a video game and store them in a dictionary. After\n",
    "which print the following output.\n",
    "\n",
    "Inventory:\n",
    "5 swords\n",
    "10 diamonds\n",
    "6 gold coins\n",
    "3 rope\n",
    "2 potions\n",
    "\n",
    "'''\n",
    "#taking inputs from user in to the dictionary I\n",
    "\n",
    "Count1 = int(input('Provide No of Swords:'))\n",
    "Count2 = int(input('Provide No of Diamonds:'))\n",
    "Count3 = int(input('Provide No of Gold Coins:'))\n",
    "Count4 = int(input('Provide No of Rope:'))\n",
    "Count5 = int(input('Provide No of Potions:'))\n",
    "\n",
    "I = {'Swords': Count1, 'Diamonds': Count2, 'Gold Coins' : Count3, 'Rope': Count4, 'Potions' : Count5}\n",
    "\n",
    "# I is the dictionary of inventory\n",
    "\n",
    "print ('Inventory:')\n",
    "\n",
    "for key,value in I.items():\n",
    "    print (value,key)\n",
    "\n",
    "\n"
   ]
  },
  {
   "cell_type": "code",
   "execution_count": 55,
   "id": "f873cd56",
   "metadata": {},
   "outputs": [
    {
     "name": "stdout",
     "output_type": "stream",
     "text": [
      "['H' 'H' 'H' ... 'H' 'H' 'T']\n",
      "10000\n",
      "No of streaks: 365\n"
     ]
    }
   ],
   "source": [
    "'''\n",
    "#Question 3: Repeat Question 1 using Arrays\n",
    "'''\n",
    "\n",
    "import numpy as np # importing numpy package \n",
    "import random # import random module \n",
    "\n",
    "flip_coin = [] # empty list is created\n",
    "\n",
    "for i in range (10000): # 10000 flips\n",
    "    n= random.randint(0,1)\n",
    "    if n==0:\n",
    "        flip_coin.append('H')\n",
    "    else:\n",
    "            flip_coin.append('T')\n",
    "            \n",
    "A = np.array(flip_coin) # converting list to array using np.array function\n",
    "            \n",
    "\n",
    "print (A)\n",
    "print (len(A))\n",
    "\n",
    "y=0 # checking for series of same H or T\n",
    "z=0 # checking for streak of 5 or more H or T\n",
    "\n",
    "for x in range (len(A)):\n",
    "    if x!=0 and A[x] == A[x-1]:\n",
    "        y+=1\n",
    "    elif A[x] != A[x-1]:\n",
    "        y=0\n",
    "    if y>=5:\n",
    "        z+=1\n",
    "        \n",
    "print ('No of streaks:',z)\n",
    "    "
   ]
  },
  {
   "cell_type": "code",
   "execution_count": 139,
   "id": "0a69c822",
   "metadata": {},
   "outputs": [
    {
     "name": "stdout",
     "output_type": "stream",
     "text": [
      "Player1 10 rolls list is [3, 5, 3, 3, 1, 3, 5, 4, 2, 1] and sum of all rolls is 30\n",
      "Player2 10 rolls list is [2, 6, 1, 5, 5, 5, 2, 4, 4, 2] and sum of all rolls is 36\n",
      "Player1 10 rolls list is [2, 2, 5, 4, 3, 1, 4, 3, 6, 6] and sum of all rolls is 36\n",
      "Its a tie! Play again\n"
     ]
    }
   ],
   "source": [
    "'''\n",
    "#Question No 5: Create a game with the following instructions:\n",
    "\n",
    "a. There are 3 players and 10 iterations.\n",
    "b. In each iteration, every player rolls a die.\n",
    "c. The winner of the game is the one who has the highest score when rolls\n",
    "from all the iterations are added.\n",
    "\n",
    "'''\n",
    "\n",
    "import random\n",
    "\n",
    "player1 = []\n",
    "player2 = []\n",
    "player3 = []\n",
    "\n",
    "Iteration = 10\n",
    "\n",
    "for i in range (10):\n",
    "    n = random.randint(1,6)\n",
    "    player1.append(n)\n",
    "    x1=0\n",
    "    for y1 in player1:\n",
    "        x1+=y1\n",
    "print ('Player1 10 rolls list is',player1, 'and sum of all rolls is', x1)\n",
    "\n",
    "for i in range (10):\n",
    "    n = random.randint(1,6)\n",
    "    player2.append(n)\n",
    "    x2=0\n",
    "    for y2 in player2:\n",
    "        x2+=y2\n",
    "print ('Player2 10 rolls list is',player2, 'and sum of all rolls is', x2)\n",
    "\n",
    "for i in range (10):\n",
    "    n = random.randint(1,6)\n",
    "    player3.append(n)\n",
    "    x3=0\n",
    "    for y3 in player3:\n",
    "        x3+=y3\n",
    "print ('Player3 10 rolls list is',player3, 'and sum of all rolls is', x3)\n",
    "\n",
    "if x1> x2 and x1> x3:\n",
    "    print ('Player 1 won')\n",
    "    \n",
    "elif x2>x1 and x2>x3:\n",
    "    print (\"player 2 won\")\n",
    "\n",
    "elif x3>x1 and x3>x2:\n",
    "    print ('Player 3 won')\n",
    "\n",
    "elif x1==x2 or x1==x3 or x2==x3 or x1==x2==x3:\n",
    "    print ('Its a tie! Play again')\n"
   ]
  }
 ],
 "metadata": {
  "kernelspec": {
   "display_name": "Python 3 (ipykernel)",
   "language": "python",
   "name": "python3"
  },
  "language_info": {
   "codemirror_mode": {
    "name": "ipython",
    "version": 3
   },
   "file_extension": ".py",
   "mimetype": "text/x-python",
   "name": "python",
   "nbconvert_exporter": "python",
   "pygments_lexer": "ipython3",
   "version": "3.9.7"
  }
 },
 "nbformat": 4,
 "nbformat_minor": 5
}
