{
 "cells": [
  {
   "cell_type": "code",
   "execution_count": 20,
   "id": "2f7b0604",
   "metadata": {},
   "outputs": [
    {
     "name": "stdout",
     "output_type": "stream",
     "text": [
      "First Name:Pavan\n",
      "Last Name:Kumar\n",
      "Country:India\n",
      "Over all Grade4.0\n",
      " Total completed credits:30\n",
      "Major:Business Analytics\n",
      " Progress result is:\n",
      "Student: Pavan Kumar with GPA 4.0 and total credits 30 has\n",
      "Progress - Good\n"
     ]
    }
   ],
   "source": [
    "'''\n",
    "Question 1: Create a class to store student records. Each student has a first name, last name,\n",
    "country, overall grade (0 - 4.0 scale), credits completed (total 30) and major.\n",
    "Create a method within this class to evaluate student progress. (20)\n",
    "Progress is evaluated as follows:\n",
    "○ “Good”: if grades are above 3.0 and credits completed is greater than 20\n",
    "○ “Average”: if grades are above 2.5 or credits completed is between 10 and\n",
    "20\n",
    "○ “Bad”: if grades are below 2.5\n",
    "'''\n",
    "\n",
    "class student:   #Initiation of class\n",
    "    def __init__ (self, first_name, last_name, country, gpa,total_credits, major ):\n",
    "        self.first_name = first_name\n",
    "        self.last_name = last_name\n",
    "        self. country = country\n",
    "        self.gpa = gpa\n",
    "        self. total_credits = total_credits\n",
    "        self.major = major\n",
    "   \n",
    "    def progress (self):\n",
    "        print ('Student:', self.first_name, self.last_name, 'with GPA', self.gpa, 'and total credits', self.total_credits, 'has' )\n",
    "        if self.gpa > 3 and self.total_credits > 20:\n",
    "            print ('Progress - Good')\n",
    "        elif self.gpa >2.5 or self.total_credits in (10,20):\n",
    "            print ('Progress - Average')\n",
    "        elif self.gpa < 2.5:\n",
    "            print ('Progress - Bad')\n",
    "            \n",
    "first_name = input('First Name:')\n",
    "last_name = input ('Last Name:')\n",
    "country = input ('Country:')\n",
    "gpa = float(input ('Over all Grade'))\n",
    "total_credits = int(input (' Total completed credits:'))\n",
    "major = input ('Major:')\n",
    "            \n",
    "S1 = student (first_name, last_name, country, gpa,total_credits,major)\n",
    "\n",
    "print (' Progress result is:')\n",
    "\n",
    "S1.progress()"
   ]
  },
  {
   "cell_type": "code",
   "execution_count": 14,
   "id": "7d5924ab",
   "metadata": {},
   "outputs": [
    {
     "name": "stdout",
     "output_type": "stream",
     "text": [
      "Enter the numbers with space :1 -4 -5 10 7 -3\n",
      "Entered list details are: [1, -4, -5, 10, 7, -3]\n",
      "Positive List is [1, 10, 7]\n",
      "Negative List is [-4, -5, -3]\n"
     ]
    }
   ],
   "source": [
    "'''\n",
    "Question 2. Write a function which separates the positive and negative numbers from a\n",
    "list of numbers. (20)\n",
    "Input: [-6, 5, -3, -2, 1, 0, -8, 9, 3]\n",
    "Output: [-6, -3, -2, -8], [5, 1, 9, 3]\n",
    "'''\n",
    "Input1  = input ('Enter the numbers with space :')\n",
    "List = Input1.split() \n",
    "\n",
    "for i in range (len(List)):\n",
    "    List[i] = int(List[i])\n",
    "    \n",
    "print ('Entered list details are:', List)\n",
    "\n",
    "def sep():   #Initiation of function\n",
    "    L1 = []\n",
    "    L2 = []\n",
    "    for x in List:\n",
    "        if x>=0:\n",
    "            L1.append(x)\n",
    "        else:\n",
    "            L2.append(x)\n",
    "   \n",
    "    return L1, L2\n",
    "\n",
    "L1, L2 = sep()\n",
    "\n",
    "print ('Positive List is', L1)\n",
    "print ('Negative List is', L2)\n",
    "\n"
   ]
  },
  {
   "cell_type": "code",
   "execution_count": 22,
   "id": "2b9f20ac",
   "metadata": {},
   "outputs": [
    {
     "name": "stdout",
     "output_type": "stream",
     "text": [
      "Enter the final score between 15 & 21: 19\n",
      "The Output is [[9, 11], [10, 10], [10, 11]]\n"
     ]
    }
   ],
   "source": [
    "'''\n",
    "Question 3: Write a function which outputs all winning possibilities for a given player’s\n",
    "score. Assume the score is always between 15 and 21. Further, the dealer is\n",
    "dealt only 2 cards. (40)\n",
    "Input - 18 (player’s final score)\n",
    "Output - [(9,10), (10,11), (10,10), (11,9), (11,8)]\n",
    "Notes:\n",
    "- No need to specify face cards separately, you can use the value “10”\n",
    "- (11,11) is not a winning combination\n",
    "'''\n",
    "\n",
    "BJ = [1,2,3,4,5,6,7,8,9,10,11] # Black Jack possible card values. All face cards are having value 10 and A is 11\n",
    "\n",
    "def Black(Score):  #Initiation of function\n",
    "\n",
    "    All = []\n",
    "\n",
    "\n",
    "    for i in (BJ):\n",
    "        for j in (BJ):\n",
    "            Win = []\n",
    "            if i <= j and i + j > Score and i+j<22:\n",
    "                Win.append(i)\n",
    "                Win.append(j)\n",
    "                All.append(Win)\n",
    "    return All\n",
    "            \n",
    "\n",
    "\n",
    "\n",
    "Score = int(input('Enter the final score between 15 & 21: '))\n",
    "\n",
    "Black(Score)\n",
    "print('The Output is', All)\n",
    "\n"
   ]
  },
  {
   "cell_type": "code",
   "execution_count": 24,
   "id": "4523b709",
   "metadata": {},
   "outputs": [
    {
     "name": "stdout",
     "output_type": "stream",
     "text": [
      "2.05 µs ± 249 ns per loop (mean ± std. dev. of 7 runs, 100000 loops each)\n",
      "23.9 µs ± 1.64 µs per loop (mean ± std. dev. of 7 runs, 10000 loops each)\n"
     ]
    }
   ],
   "source": [
    "'''\n",
    "Q4: Calculate the number of steps & Big O order for the programs in question 2\n",
    "and 3.\n",
    "'''\n",
    "#Solution:\n",
    "'''\n",
    "in Question 2, inside sep() function, the for loop gets iterative based on input value i.e. x. \n",
    "Hence the Big O order is O(n) - Linear\n",
    "'''\n",
    "%timeit sep()  # where sep() is from the Question 2\n",
    "\n",
    "'''it has taken ~ 2 micro seconds per loop '''\n",
    "\n",
    "'''\n",
    "in Question 3, inside Black (Score) function, the for loop gets called 2 times (nested loop)and it increase \n",
    "as the input value of i or j increases.\n",
    "\n",
    "Hence the Big O Order is O(n^2) - Quadratic\n",
    "'''\n",
    "%timeit Black(Score) #where Black(Score) is from Question 3\n",
    "\n",
    "'''it has taken ~24 micro seconds per loop''' "
   ]
  }
 ],
 "metadata": {
  "kernelspec": {
   "display_name": "Python 3 (ipykernel)",
   "language": "python",
   "name": "python3"
  },
  "language_info": {
   "codemirror_mode": {
    "name": "ipython",
    "version": 3
   },
   "file_extension": ".py",
   "mimetype": "text/x-python",
   "name": "python",
   "nbconvert_exporter": "python",
   "pygments_lexer": "ipython3",
   "version": "3.9.7"
  }
 },
 "nbformat": 4,
 "nbformat_minor": 5
}
